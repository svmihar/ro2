{
 "cells": [
  {
   "cell_type": "code",
   "execution_count": 2,
   "metadata": {},
   "outputs": [],
   "source": [
    "from pyomo.environ import * \n",
    "from pyomo.opt import SolverFactory \n",
    "\n",
    "opt = SolverFactory('glpk')\n",
    "model = ConcreteModel()"
   ]
  },
  {
   "cell_type": "code",
   "execution_count": 3,
   "metadata": {},
   "outputs": [],
   "source": [
    "model.x1 = Var(within=NonNegativeIntegers) #gelang\n",
    "model.x2 = Var(within=NonNegativeIntegers) #kalung\n",
    "model.x3 = Var(within=NonNegativeIntegers) #cincin\n",
    "model.x4 = Var(within=NonNegativeIntegers) #anting\n",
    "model.x5 = Var(within=NonNegativeIntegers)"
   ]
  },
  {
   "cell_type": "code",
   "execution_count": 4,
   "metadata": {},
   "outputs": [],
   "source": [
    "# define deviational variables \n",
    "model.n1 = Var(within = NonNegativeIntegers)\n",
    "model.p1 = Var(within = NonNegativeIntegers)\n",
    "model.n2 = Var(within = NonNegativeIntegers)\n",
    "model.p2 = Var(within = NonNegativeIntegers)\n",
    "model.n3 = Var(within = NonNegativeIntegers)\n",
    "model.p3 = Var(within = NonNegativeIntegers)\n",
    "model.n4 = Var(within = NonNegativeIntegers)\n",
    "model.p4 = Var(within = NonNegativeIntegers)\n",
    "model.n5 = Var(within = NonNegativeIntegers)\n",
    "model.p5 = Var(within = NonNegativeIntegers)\n",
    "model.n6 = Var(within=NonNegativeIntegers)\n",
    "model.p6 = Var(within=NonNegativeIntegers)\n",
    "model.n7 = Var(within=NonNegativeIntegers)\n",
    "model.p7 = Var(within=NonNegativeIntegers)\n",
    "\n",
    "f1 = 4977523000\n",
    "f2 = 2053334000"
   ]
  },
  {
   "cell_type": "code",
   "execution_count": 5,
   "metadata": {},
   "outputs": [],
   "source": [
    "model.obj = Objective(expr =model.n5 + (model.n1+model.n2 + model.n3 + model.n4 + model.p1 + model.p2 + model.p3 + model.p4) + \n",
    "                      model.n6 + model.p7 + model.n7\n",
    "                     )\n",
    "\n",
    "\"\"\"\n",
    "1. memaksimalkan jumlah produksi untuk memenuhi jumlah permintaan \n",
    "2. memaksimalkan pendapatan penjualan \n",
    "3. meminimalkan biaya produksi \n",
    "4. memaksimalkan jam kerja mesin \n",
    "5. meminimalkan jam lembur \n",
    "\n",
    "\"\"\"\n",
    "\n",
    "model.con1 = Constraint(expr = 12450*model.x1 + 10800*model.x2 + 15200*model.x3 + 7400*model.x4 + model.n5 == f1) \n",
    "model.con2 = Constraint(expr = 5590*model.x1 + 4481*model.x2 + 7245*model.x3 + 1365*model.x4 + model.n6 == f2)\n",
    "model.con3 = Constraint(expr = 7.452*model.x1 + 8.273*model.x2 + 45206*model.x4 + model.n7 + model.p7 == 3444480)\n",
    "model.con4 = Constraint(expr = model.p7 <= 1347830)\n",
    "model.con5 = Constraint(expr = model.x1 + model.n1 - model.p1 == 41890.87)\n",
    "model.con6 = Constraint(expr = model.x2 + model.n2 - model.p2 == 33379.18)\n",
    "model.con7 = Constraint(expr = model.x3 + model.n3 - model.p3 == 31558.68)\n",
    "model.con8 = Constraint(expr = model.x4 + model.n4 - model.p4 == 34756.75)\n"
   ]
  },
  {
   "cell_type": "code",
   "execution_count": null,
   "metadata": {},
   "outputs": [],
   "source": [
    "opt.solve(model)\n",
    "\n",
    "# Print the values of the decision variables\n",
    "print(\"x1 = \", model.x1.value)\n",
    "print(\"x2 = \", model.x2.value)"
   ]
  },
  {
   "cell_type": "code",
   "execution_count": null,
   "metadata": {},
   "outputs": [],
   "source": []
  },
  {
   "cell_type": "code",
   "execution_count": null,
   "metadata": {},
   "outputs": [],
   "source": []
  }
 ],
 "metadata": {
  "kernelspec": {
   "display_name": "Python 3",
   "language": "python",
   "name": "python3"
  },
  "language_info": {
   "codemirror_mode": {
    "name": "ipython",
    "version": 3
   },
   "file_extension": ".py",
   "mimetype": "text/x-python",
   "name": "python",
   "nbconvert_exporter": "python",
   "pygments_lexer": "ipython3",
   "version": "3.7.2"
  }
 },
 "nbformat": 4,
 "nbformat_minor": 2
}
